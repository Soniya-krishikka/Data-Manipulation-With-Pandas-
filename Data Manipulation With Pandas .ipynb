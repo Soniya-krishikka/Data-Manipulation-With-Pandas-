{
 "cells": [
  {
   "cell_type": "code",
   "execution_count": 2,
   "id": "fe2dda0b-43fe-4047-a7ac-0a787d2579d8",
   "metadata": {},
   "outputs": [],
   "source": [
    "import pandas as pd"
   ]
  },
  {
   "cell_type": "code",
   "execution_count": 4,
   "id": "73af289b-6747-4dc0-bb12-418d0c0390b7",
   "metadata": {},
   "outputs": [],
   "source": [
    "# Load CSV file into a DataFrame\n",
    "file_path = 'C:\\\\Users\\\\subal\\\\Downloads\\\\Data Cleaning and Preprocessing.csv'\n",
    "df = pd.read_csv(file_path)"
   ]
  },
  {
   "cell_type": "code",
   "execution_count": 6,
   "id": "e3a33795-d31f-41e6-9f82-78050591f954",
   "metadata": {},
   "outputs": [
    {
     "name": "stdout",
     "output_type": "stream",
     "text": [
      "Initial DataFrame:\n",
      "  Observation  Y-Kappa  ChipRate  BF-CMratio  BlowFlow  ChipLevel4   \\\n",
      "0    31-00:00    23.10    16.520     121.717  1177.607      169.805   \n",
      "1    31-01:00    27.60    16.810      79.022  1328.360      341.327   \n",
      "2    31-02:00    23.19    16.709      79.562  1329.407      239.161   \n",
      "3    31-03:00    23.60    16.478      81.011  1334.877      213.527   \n",
      "4    31-04:00    22.90    15.618      93.244  1334.168      243.131   \n",
      "\n",
      "   T-upperExt-2   T-lowerExt-2    UCZAA  WhiteFlow-4   ...  SteamFlow-4   \\\n",
      "0        358.282         329.545  1.443       599.253  ...        67.122   \n",
      "1        351.050         329.067  1.549       537.201  ...        60.012   \n",
      "2        350.022         329.260  1.600       549.611  ...        61.304   \n",
      "3        350.938         331.142  1.604       623.362  ...        68.496   \n",
      "4        351.640         332.709    NaN       638.672  ...        70.022   \n",
      "\n",
      "   Lower-HeatT-3  Upper-HeatT-3   ChipMass-4   WeakLiquorF   BlackFlow-2   \\\n",
      "0        329.432         303.099      175.964      1127.197      1319.039   \n",
      "1        330.823         304.879      163.202       665.975      1297.317   \n",
      "2        329.140         303.383      164.013       677.534      1327.072   \n",
      "3        328.875         302.254      181.487       767.853      1324.461   \n",
      "4        328.352         300.954      183.929       888.448      1343.424   \n",
      "\n",
      "   WeakWashF   SteamHeatF-3   T-Top-Chips-4   SulphidityL-4   \n",
      "0     257.325         54.612         252.077             NaN  \n",
      "1     241.182         46.603         251.406           29.11  \n",
      "2     237.272         51.795         251.335             NaN  \n",
      "3     239.478         54.846         250.312           29.02  \n",
      "4     215.372         54.186         249.916           29.01  \n",
      "\n",
      "[5 rows x 23 columns]\n"
     ]
    }
   ],
   "source": [
    "# Display the first few rows of the DataFrame\n",
    "print(\"Initial DataFrame:\")\n",
    "print(df.head())\n"
   ]
  },
  {
   "cell_type": "code",
   "execution_count": 8,
   "id": "3c5c876a-071b-4c46-b69b-1590f5bcb5d4",
   "metadata": {},
   "outputs": [
    {
     "name": "stdout",
     "output_type": "stream",
     "text": [
      "\n",
      "Missing values in each column:\n",
      "Observation          0\n",
      "Y-Kappa              0\n",
      "ChipRate             5\n",
      "BF-CMratio          17\n",
      "BlowFlow            16\n",
      "ChipLevel4           1\n",
      "T-upperExt-2         2\n",
      "T-lowerExt-2         2\n",
      "UCZAA               25\n",
      "WhiteFlow-4          1\n",
      "AAWhiteSt-4        151\n",
      "AA-Wood-4            1\n",
      "ChipMoisture-4       1\n",
      "SteamFlow-4          1\n",
      "Lower-HeatT-3        2\n",
      "Upper-HeatT-3        2\n",
      "ChipMass-4           1\n",
      "WeakLiquorF          1\n",
      "BlackFlow-2          2\n",
      "WeakWashF            1\n",
      "SteamHeatF-3         2\n",
      "T-Top-Chips-4        1\n",
      "SulphidityL-4      151\n",
      "dtype: int64\n"
     ]
    }
   ],
   "source": [
    "# Display the count of missing values in each column\n",
    "print(\"\\nMissing values in each column:\")\n",
    "print(df.isnull().sum())"
   ]
  },
  {
   "cell_type": "code",
   "execution_count": 10,
   "id": "c62df0b1-ce89-428f-a54e-ddd4e051761e",
   "metadata": {},
   "outputs": [
    {
     "name": "stdout",
     "output_type": "stream",
     "text": [
      "\n",
      "Missing values in each column:\n",
      "Observation          0\n",
      "Y-Kappa              0\n",
      "ChipRate             5\n",
      "BF-CMratio          17\n",
      "BlowFlow            16\n",
      "ChipLevel4           1\n",
      "T-upperExt-2         2\n",
      "T-lowerExt-2         2\n",
      "UCZAA               25\n",
      "WhiteFlow-4          1\n",
      "AAWhiteSt-4        151\n",
      "AA-Wood-4            1\n",
      "ChipMoisture-4       1\n",
      "SteamFlow-4          1\n",
      "Lower-HeatT-3        2\n",
      "Upper-HeatT-3        2\n",
      "ChipMass-4           1\n",
      "WeakLiquorF          1\n",
      "BlackFlow-2          2\n",
      "WeakWashF            1\n",
      "SteamHeatF-3         2\n",
      "T-Top-Chips-4        1\n",
      "SulphidityL-4      151\n",
      "dtype: int64\n"
     ]
    }
   ],
   "source": [
    "# Display the count of missing values in each column\n",
    "print(\"\\nMissing values in each column:\")\n",
    "print(df.isnull().sum())"
   ]
  },
  {
   "cell_type": "code",
   "execution_count": 12,
   "id": "0a2b050a-fb55-48f2-b03d-ee8084d1e230",
   "metadata": {},
   "outputs": [
    {
     "name": "stdout",
     "output_type": "stream",
     "text": [
      "\n",
      "DataFrame after filling missing values with 0:\n",
      "  Observation  Y-Kappa  ChipRate  BF-CMratio  BlowFlow  ChipLevel4   \\\n",
      "0    31-00:00    23.10    16.520     121.717  1177.607      169.805   \n",
      "1    31-01:00    27.60    16.810      79.022  1328.360      341.327   \n",
      "2    31-02:00    23.19    16.709      79.562  1329.407      239.161   \n",
      "3    31-03:00    23.60    16.478      81.011  1334.877      213.527   \n",
      "4    31-04:00    22.90    15.618      93.244  1334.168      243.131   \n",
      "\n",
      "   T-upperExt-2   T-lowerExt-2    UCZAA  WhiteFlow-4   ...  SteamFlow-4   \\\n",
      "0        358.282         329.545  1.443       599.253  ...        67.122   \n",
      "1        351.050         329.067  1.549       537.201  ...        60.012   \n",
      "2        350.022         329.260  1.600       549.611  ...        61.304   \n",
      "3        350.938         331.142  1.604       623.362  ...        68.496   \n",
      "4        351.640         332.709  0.000       638.672  ...        70.022   \n",
      "\n",
      "   Lower-HeatT-3  Upper-HeatT-3   ChipMass-4   WeakLiquorF   BlackFlow-2   \\\n",
      "0        329.432         303.099      175.964      1127.197      1319.039   \n",
      "1        330.823         304.879      163.202       665.975      1297.317   \n",
      "2        329.140         303.383      164.013       677.534      1327.072   \n",
      "3        328.875         302.254      181.487       767.853      1324.461   \n",
      "4        328.352         300.954      183.929       888.448      1343.424   \n",
      "\n",
      "   WeakWashF   SteamHeatF-3   T-Top-Chips-4   SulphidityL-4   \n",
      "0     257.325         54.612         252.077            0.00  \n",
      "1     241.182         46.603         251.406           29.11  \n",
      "2     237.272         51.795         251.335            0.00  \n",
      "3     239.478         54.846         250.312           29.02  \n",
      "4     215.372         54.186         249.916           29.01  \n",
      "\n",
      "[5 rows x 23 columns]\n"
     ]
    }
   ],
   "source": [
    "# Fill missing values with a specific value (e.g., 0)\n",
    "df_filled = df.fillna(0)\n",
    "print(\"\\nDataFrame after filling missing values with 0:\")\n",
    "print(df_filled.head())\n"
   ]
  },
  {
   "cell_type": "code",
   "execution_count": 14,
   "id": "94f8947a-5734-4e9f-9626-23b6ef03da71",
   "metadata": {},
   "outputs": [
    {
     "name": "stdout",
     "output_type": "stream",
     "text": [
      "\n",
      "Summary Statistics:\n",
      "          Y-Kappa    ChipRate  BF-CMratio     BlowFlow  ChipLevel4   \\\n",
      "count  324.000000  319.000000  307.000000   308.000000   323.000000   \n",
      "mean    20.635370   14.347937   87.464456  1237.837614   258.164483   \n",
      "std      3.070036    1.499095    7.995012   100.593735    87.987452   \n",
      "min     12.170000    9.983000   68.645000     0.000000     0.000000   \n",
      "25%     18.382500   13.358000   81.823000  1193.215250   213.527000   \n",
      "50%     20.845000   14.308000   86.739000  1273.138500   271.792000   \n",
      "75%     23.032500   15.517000   92.372000  1289.196000   321.680000   \n",
      "max     27.600000   16.958000  121.717000  1351.240000   419.014000   \n",
      "\n",
      "       T-upperExt-2   T-lowerExt-2         UCZAA  WhiteFlow-4   AAWhiteSt-4   \\\n",
      "count     322.000000      322.000000  299.000000    323.000000    173.000000   \n",
      "mean      356.904295      324.020180    1.492010    591.732260      6.140410   \n",
      "std         9.209290        7.621402    0.105923     67.016351      0.081609   \n",
      "min       339.168000      284.633000    1.182000    405.111000      5.890000   \n",
      "25%       350.241250      321.420000    1.431500    540.989500      6.089000   \n",
      "50%       356.843000      325.669000    1.498000    592.895000      6.135000   \n",
      "75%       362.242250      329.175000    1.560500    639.480500      6.199000   \n",
      "max       399.135000      337.012000    1.747000    731.394000      6.340000   \n",
      "\n",
      "       ...  SteamFlow-4   Lower-HeatT-3  Upper-HeatT-3   ChipMass-4   \\\n",
      "count  ...    323.000000     322.000000      322.000000   323.000000   \n",
      "mean   ...     66.668285     325.567820      300.525699   162.222322   \n",
      "std    ...      5.708587       4.609862        4.568484    14.160688   \n",
      "min    ...     48.568000     318.051000      293.312000   113.922000   \n",
      "25%    ...     62.518000     321.385500      296.513250   153.032500   \n",
      "50%    ...     67.429000     324.741000      299.126000   163.690000   \n",
      "75%    ...     71.522000     329.845250      304.244750   172.555000   \n",
      "max    ...     76.147000     333.854000      311.146000   189.268000   \n",
      "\n",
      "       WeakLiquorF   BlackFlow-2   WeakWashF   SteamHeatF-3   T-Top-Chips-4   \\\n",
      "count    323.000000    322.000000  323.000000     322.000000      323.000000   \n",
      "mean     873.828941   1175.917016  263.543068      49.696907      251.240087   \n",
      "std      122.073521    149.334010  163.666942       4.551909        1.283432   \n",
      "min      486.938000    838.948000    0.000000      35.510000      248.359000   \n",
      "25%      792.019500   1044.817500  134.649000      46.389750      250.312000   \n",
      "50%      865.254000   1150.221500  269.193000      50.277000      251.380000   \n",
      "75%      965.286500   1319.021250  405.563000      53.294250      252.323500   \n",
      "max     1226.277000   1395.767000  715.715000      63.332000      254.122000   \n",
      "\n",
      "       SulphidityL-4   \n",
      "count      173.000000  \n",
      "mean        30.411671  \n",
      "std          0.701317  \n",
      "min         29.010000  \n",
      "25%         29.970000  \n",
      "50%         30.370000  \n",
      "75%         30.820000  \n",
      "max         32.840000  \n",
      "\n",
      "[8 rows x 22 columns]\n"
     ]
    }
   ],
   "source": [
    "# Calculate summary statistics for numerical columns\n",
    "summary_stats = df.describe()\n",
    "print(\"\\nSummary Statistics:\")\n",
    "print(summary_stats)"
   ]
  },
  {
   "cell_type": "code",
   "execution_count": null,
   "id": "90b9e0b5-ffdf-4dd3-92b4-367bc383e9cc",
   "metadata": {},
   "outputs": [],
   "source": []
  }
 ],
 "metadata": {
  "kernelspec": {
   "display_name": "Python 3 (ipykernel)",
   "language": "python",
   "name": "python3"
  },
  "language_info": {
   "codemirror_mode": {
    "name": "ipython",
    "version": 3
   },
   "file_extension": ".py",
   "mimetype": "text/x-python",
   "name": "python",
   "nbconvert_exporter": "python",
   "pygments_lexer": "ipython3",
   "version": "3.11.7"
  }
 },
 "nbformat": 4,
 "nbformat_minor": 5
}
